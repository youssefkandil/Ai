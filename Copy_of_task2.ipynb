{
  "nbformat": 4,
  "nbformat_minor": 0,
  "metadata": {
    "colab": {
      "provenance": [],
      "include_colab_link": true
    },
    "kernelspec": {
      "name": "python3",
      "display_name": "Python 3"
    },
    "language_info": {
      "name": "python"
    }
  },
  "cells": [
    {
      "cell_type": "markdown",
      "metadata": {
        "id": "view-in-github",
        "colab_type": "text"
      },
      "source": [
        "<a href=\"https://colab.research.google.com/github/youssefkandil/Ai/blob/main/Copy_of_task2.ipynb\" target=\"_parent\"><img src=\"https://colab.research.google.com/assets/colab-badge.svg\" alt=\"Open In Colab\"/></a>"
      ]
    },
    {
      "cell_type": "code",
      "execution_count": null,
      "metadata": {
        "id": "vs_SU3ng0tbN"
      },
      "outputs": [],
      "source": []
    },
    {
      "cell_type": "markdown",
      "source": [
        "\n",
        "# **WAP to enter a number from user and print its absolute value.**"
      ],
      "metadata": {
        "id": "MnWAiH2o0zSa"
      }
    },
    {
      "cell_type": "code",
      "source": [
        "num = int(input(\"Enter the num :\"))\n",
        "if num > 0:\n",
        "  print(num)\n",
        "else:\n",
        "  print(num*-1)"
      ],
      "metadata": {
        "id": "l3oLMLbk02Pj",
        "outputId": "a8724587-6983-459a-a9c9-8f2fd55623c2",
        "colab": {
          "base_uri": "https://localhost:8080/"
        }
      },
      "execution_count": null,
      "outputs": [
        {
          "output_type": "stream",
          "name": "stdout",
          "text": [
            "Enter the num :-1\n",
            "1\n"
          ]
        }
      ]
    },
    {
      "cell_type": "markdown",
      "source": [
        "# **WAP to enter a year from user and check if it is leap year or not.**"
      ],
      "metadata": {
        "id": "pOnjNwNx03Tr"
      }
    },
    {
      "cell_type": "code",
      "source": [
        "year = int(input(\"Enter the year :\"))\n",
        "if year%4 == 0:\n",
        "  print(\"This is a Leap year\")\n",
        "else :\n",
        "  print(\"This is not a Leap year\")"
      ],
      "metadata": {
        "id": "4PEtUTm51H6x",
        "outputId": "ed49db34-d5ba-497d-bb1d-e02c37935734",
        "colab": {
          "base_uri": "https://localhost:8080/"
        }
      },
      "execution_count": null,
      "outputs": [
        {
          "output_type": "stream",
          "name": "stdout",
          "text": [
            "Enter the year :2028\n",
            "This is a Leap year\n"
          ]
        }
      ]
    },
    {
      "cell_type": "markdown",
      "source": [
        "# **WAP to enter the age of 3 person and print oldest and yougest among them.**"
      ],
      "metadata": {
        "id": "sn-NADUn1VGn"
      }
    },
    {
      "cell_type": "code",
      "source": [
        "p1=int(input(\"Enter your age p1 :\"))\n",
        "p2=int(input(\"Enter your age p2 :\"))\n",
        "p3=int(input(\"Enter your age p3 :\"))\n",
        "if p1>p2 and p2>p3:\n",
        "  print(\"p1 is the oldest and p3 is the youngest\")\n",
        "elif p1>p3 and p3>p2:\n",
        "  print(\"p1 is the oldest and p2 is the youngest\")\n",
        "elif p2>p1 and p1>p3:\n",
        "  print(\"p2 is the oldest and p3 is the youngest\")\n",
        "elif p2>p3 and p3>p1:\n",
        "  print(\"p2 is the oldest and p1 is the youngest\")\n",
        "elif p3>p2 and p2>p1:\n",
        "  print(\"p3 is the oldest and p1 is the youngest\")\n",
        "else:\n",
        "  print(\"p3 is the oldest and p2 is the youngest\")\n"
      ],
      "metadata": {
        "id": "uNGWS1AT1cYP",
        "outputId": "ef508537-9fc0-4d5c-f4a6-17634712e774",
        "colab": {
          "base_uri": "https://localhost:8080/"
        }
      },
      "execution_count": null,
      "outputs": [
        {
          "output_type": "stream",
          "name": "stdout",
          "text": [
            "Enter your age p1 :25\n",
            "Enter your age p2 :21\n",
            "Enter your age p3 :30\n",
            "p3 is the oldest and p2 is the youngest\n"
          ]
        }
      ]
    },
    {
      "cell_type": "markdown",
      "source": [
        "# **Write a program that asks the user to enter a series of numbers. The program should ask for numbers until the user enters a negative number. Once the user enters a negative number, the program should stop and print the sum of all the positive numbers entered**\n",
        "# **Example**\n",
        "# **Enter a number: 5**\n",
        "# **Enter a number: 8**\n",
        "# **Enter a number: 12**\n",
        "# **Enter a number: -2**\n",
        "# **The sum of the positive numbers is 25.**"
      ],
      "metadata": {
        "id": "XFRRNGVj1dEw"
      }
    },
    {
      "cell_type": "code",
      "source": [
        "\n",
        "t=0\n",
        "while True:\n",
        "  num=int(input(\"enter the number: \"))\n",
        "  if num <0:\n",
        "    break\n",
        "  t+=num\n",
        "\n",
        "print(\"the sum of the positive numbers is\",t)"
      ],
      "metadata": {
        "id": "ijp9SzHu2A3p",
        "outputId": "a21883c2-ecce-446b-9dfa-e946e70df551",
        "colab": {
          "base_uri": "https://localhost:8080/"
        }
      },
      "execution_count": null,
      "outputs": [
        {
          "output_type": "stream",
          "name": "stdout",
          "text": [
            "enter the number: 2\n",
            "enter the number: 3\n",
            "enter the number: -1\n",
            "the sum of the positive numbers is 5\n"
          ]
        }
      ]
    },
    {
      "cell_type": "markdown",
      "source": [
        "# **Write a program that asks the user to enter their name and age. The program should check if the user's age is greater than or equal to 18. If it is, the program should print a message saying they are eligible to vote. Otherwise, the program should print a message saying they are not eligible to vote due to being underage.**"
      ],
      "metadata": {
        "id": "oODCHUj62DxA"
      }
    },
    {
      "cell_type": "code",
      "source": [
        "name=input(\"plz enter your name:\")\n",
        "age=int(input(\"plz enter your age:\"))\n",
        "if age >= 18:\n",
        "  print(\"you are eligible to vote\")\n",
        "else:\n",
        "  print(\"you are not eligible to vote\")"
      ],
      "metadata": {
        "id": "Svls1cLA2JVA",
        "outputId": "a45ba40a-804a-4e33-8246-584ba4779b4e",
        "colab": {
          "base_uri": "https://localhost:8080/"
        }
      },
      "execution_count": null,
      "outputs": [
        {
          "output_type": "stream",
          "name": "stdout",
          "text": [
            "plz enter your name:youssef\n",
            "plz enter your age:20\n",
            "you are eligible to vote\n"
          ]
        }
      ]
    },
    {
      "cell_type": "markdown",
      "source": [
        "# **Write a Python Program to Find the Factorial of a Number**"
      ],
      "metadata": {
        "id": "2y5o5SqL3nvL"
      }
    },
    {
      "cell_type": "code",
      "source": [
        "num=int(input(\"Enter The Number:\"))\n",
        "Factorial=1\n",
        "while num>0:\n",
        "  if num>=1:\n",
        "    Factorial*=num\n",
        "    num-=1\n",
        "print(\"The Factorial of the Number is\",Factorial)"
      ],
      "metadata": {
        "id": "0N9NW2zNL3KJ",
        "outputId": "5313228d-7a91-4dad-e6f4-036a46cad793",
        "colab": {
          "base_uri": "https://localhost:8080/"
        }
      },
      "execution_count": null,
      "outputs": [
        {
          "output_type": "stream",
          "name": "stdout",
          "text": [
            "Enter The Number:5\n",
            "The Factorial of the Number is 120\n"
          ]
        }
      ]
    }
  ]
}