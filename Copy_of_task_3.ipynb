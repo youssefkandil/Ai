{
  "cells": [
    {
      "cell_type": "markdown",
      "metadata": {
        "id": "view-in-github",
        "colab_type": "text"
      },
      "source": [
        "<a href=\"https://colab.research.google.com/github/youssefkandil/Ai/blob/main/Copy_of_task_3.ipynb\" target=\"_parent\"><img src=\"https://colab.research.google.com/assets/colab-badge.svg\" alt=\"Open In Colab\"/></a>"
      ]
    },
    {
      "cell_type": "markdown",
      "id": "ff38aad7",
      "metadata": {
        "id": "ff38aad7"
      },
      "source": [
        "### 1-Write a Python program that takes two numbers as user input and performs addition on them."
      ]
    },
    {
      "cell_type": "code",
      "execution_count": null,
      "id": "91696b79",
      "metadata": {
        "id": "91696b79",
        "outputId": "a60e16ba-0d18-4fdc-e1f8-2694f114b5e6",
        "colab": {
          "base_uri": "https://localhost:8080/"
        }
      },
      "outputs": [
        {
          "output_type": "stream",
          "name": "stdout",
          "text": [
            "Enter number1: 3\n",
            "Enter number2: 6\n",
            "The Sum of The Numbers is : 9\n"
          ]
        }
      ],
      "source": [
        "num1=int(input(\"Enter number1: \"))\n",
        "num2=int(input(\"Enter number2: \"))\n",
        "print(\"The Sum of The Numbers is :\",num1+num2)"
      ]
    },
    {
      "cell_type": "markdown",
      "id": "360854ff",
      "metadata": {
        "id": "360854ff"
      },
      "source": [
        "### 2-Write a Python program that takes an integer as input and checks if it is even or odd. Print \"Even\" if the number is divisible by 2, otherwise print \"Odd\"."
      ]
    },
    {
      "cell_type": "code",
      "execution_count": 32,
      "id": "ee4c35fe",
      "metadata": {
        "ExecuteTime": {
          "end_time": "2023-07-23T21:35:24.351946Z",
          "start_time": "2023-07-23T21:35:23.287212Z"
        },
        "id": "ee4c35fe",
        "outputId": "d0a85ead-8da5-4384-ec16-2a87d23218a6",
        "colab": {
          "base_uri": "https://localhost:8080/"
        }
      },
      "outputs": [
        {
          "output_type": "stream",
          "name": "stdout",
          "text": [
            "Enter Number:50\n",
            "Even\n"
          ]
        }
      ],
      "source": [
        "num=int(input(\"Enter Number:\"))\n",
        "if num==0:\n",
        "  print(\"Zero\")\n",
        "else:\n",
        "    if num%2==0:\n",
        "        print(\"Even\")\n",
        "    else:\n",
        "        print(\"Odd\")\n",
        "\n",
        "\n"
      ]
    },
    {
      "cell_type": "markdown",
      "id": "6ea0354c",
      "metadata": {
        "id": "6ea0354c"
      },
      "source": [
        "### 3-Write a Python program that prints all the even numbers from 1 to 20 using a for loop"
      ]
    },
    {
      "cell_type": "code",
      "execution_count": null,
      "id": "df43b7f5",
      "metadata": {
        "ExecuteTime": {
          "end_time": "2023-07-23T21:36:51.373589Z",
          "start_time": "2023-07-23T21:36:51.365580Z"
        },
        "id": "df43b7f5",
        "outputId": "21e89ad2-546d-46ee-aee3-76e59976a5ea",
        "colab": {
          "base_uri": "https://localhost:8080/"
        }
      },
      "outputs": [
        {
          "output_type": "stream",
          "name": "stdout",
          "text": [
            "2\n",
            "4\n",
            "6\n",
            "8\n",
            "10\n",
            "12\n",
            "14\n",
            "16\n",
            "18\n",
            "20\n"
          ]
        }
      ],
      "source": [
        "for i in range(1,21):\n",
        "   if i%2==0:\n",
        "      print(i)\n"
      ]
    },
    {
      "cell_type": "markdown",
      "id": "2d66bab2",
      "metadata": {
        "id": "2d66bab2"
      },
      "source": [
        "### 4-Write a Python function that takes a string as input and counts the number of vowels (a, e, i, o, u) in the string. The function should return the count"
      ]
    },
    {
      "cell_type": "code",
      "execution_count": null,
      "id": "24105679",
      "metadata": {
        "ExecuteTime": {
          "end_time": "2023-07-23T21:43:41.353283Z",
          "start_time": "2023-07-23T21:43:41.332496Z"
        },
        "id": "24105679",
        "colab": {
          "base_uri": "https://localhost:8080/"
        },
        "outputId": "a45746eb-1012-459c-c7ed-9ad23d143df8"
      },
      "outputs": [
        {
          "name": "stdout",
          "output_type": "stream",
          "text": [
            "Enter a String :AHMED\n"
          ]
        },
        {
          "output_type": "execute_result",
          "data": {
            "text/plain": [
              "2"
            ]
          },
          "metadata": {},
          "execution_count": 11
        }
      ],
      "source": [
        "def vowels_count(s):\n",
        "  vowels = 'aeiouAEIOU'\n",
        "  return sum(1 for i in s if i in vowels)\n",
        "string=input( \"Enter a String :\")\n",
        "vowels_count(string)\n",
        "\n"
      ]
    },
    {
      "cell_type": "markdown",
      "id": "a9a0ea06",
      "metadata": {
        "id": "a9a0ea06"
      },
      "source": [
        "### 5-Write a Python program that creates a list of numbers from 1 to 10. Use a loop to iterate over the list and print each number of power 2."
      ]
    },
    {
      "cell_type": "code",
      "execution_count": null,
      "id": "f0e52d30",
      "metadata": {
        "ExecuteTime": {
          "end_time": "2023-07-15T16:20:03.747408Z",
          "start_time": "2023-07-15T16:20:03.740547Z"
        },
        "id": "f0e52d30",
        "colab": {
          "base_uri": "https://localhost:8080/"
        },
        "outputId": "7e73610f-05e9-4ab0-c495-99c3d6c64654"
      },
      "outputs": [
        {
          "output_type": "stream",
          "name": "stdout",
          "text": [
            "1\n",
            "4\n",
            "9\n",
            "16\n",
            "25\n",
            "36\n",
            "49\n",
            "64\n",
            "81\n",
            "100\n"
          ]
        }
      ],
      "source": [
        "List=[1,2,3,4,5,6,7,8,9,10]\n",
        "for i in List:\n",
        "  print(i**2)"
      ]
    },
    {
      "cell_type": "markdown",
      "id": "430c9df9",
      "metadata": {
        "id": "430c9df9"
      },
      "source": [
        "### 6-Write a Python program that calculates the average grade for a student based on their scores in different subjects. The program should include the following steps:\n",
        "\n",
        "#### 1-Create variables to store the student's name, subject names, and corresponding scores. Initialize the variables with sample data.\n",
        "\n",
        "#### 2-Prompt the user to enter the student's name and assign it to the name variable.\n",
        "\n",
        "#### 3-Use a loop to prompt the user to enter the subject names and corresponding scores. Store the subject names in a list and the scores in another list.\n",
        "\n",
        "#### 4-After collecting the scores, calculate the average grade by summing up all the scores and dividing by the total number of subjects.\n",
        "\n",
        "#### 5-Check if the average grade is above a 70, print a congratulatory message. Otherwise, print an encouragement message."
      ]
    },
    {
      "cell_type": "code",
      "execution_count": null,
      "id": "e0254271",
      "metadata": {
        "ExecuteTime": {
          "end_time": "2023-07-15T16:16:17.066909Z",
          "start_time": "2023-07-15T16:16:07.636799Z"
        },
        "id": "e0254271",
        "colab": {
          "base_uri": "https://localhost:8080/"
        },
        "outputId": "aaae039f-3d29-4121-9540-76a81db30044"
      },
      "outputs": [
        {
          "output_type": "stream",
          "name": "stdout",
          "text": [
            "Enter Your Name: Youssef Kandil\n",
            "Enter Number of Subjects: 5\n",
            "Enter Subject Name: sql\n",
            "Enter Score: 60\n",
            "Enter Subject Name: php\n",
            "Enter Score: 60\n",
            "Enter Subject Name: math\n",
            "Enter Score: 60\n",
            "Enter Subject Name: java\n",
            "Enter Score: 40\n",
            "Enter Subject Name: py\n",
            "Enter Score: 30\n",
            "Good luck next time believe in yourself 'Your average is'  :  50.0\n"
          ]
        }
      ],
      "source": [
        "name=input(\"Enter Your Name: \")\n",
        "SubjectNames=[]\n",
        "scores=[]\n",
        "num_of_sub=int(input(\"Enter Number of Subjects: \"))\n",
        "for i in range(num_of_sub):\n",
        "  SubjectNames.append(input(\"Enter Subject Name: \"))\n",
        "  scores.append(int(input(\"Enter Score: \")))\n",
        "average=sum(scores)/num_of_sub\n",
        "if average>70 :\n",
        "  print(\"Congratulations you did an amazing job \\'Your average is\\'  : \",average)\n",
        "else:\n",
        "  print(\"Good luck next time believe in yourself \\'Your average is\\'  : \",average)\n",
        "\n",
        "\n",
        "\n",
        "\n",
        "\n",
        "\n"
      ]
    },
    {
      "cell_type": "markdown",
      "id": "ae9df360",
      "metadata": {
        "id": "ae9df360"
      },
      "source": [
        "### 7-Find Common Elements\n",
        "### Write a Python function that takes two lists as input and returns a new list containing the common elements present in both lists."
      ]
    },
    {
      "cell_type": "code",
      "execution_count": null,
      "id": "d030c3c0",
      "metadata": {
        "ExecuteTime": {
          "end_time": "2023-07-23T22:08:16.794474Z",
          "start_time": "2023-07-23T22:08:16.775639Z"
        },
        "id": "d030c3c0",
        "colab": {
          "base_uri": "https://localhost:8080/"
        },
        "outputId": "840b326f-b263-4884-ae05-d52a7482068b"
      },
      "outputs": [
        {
          "output_type": "stream",
          "name": "stdout",
          "text": [
            "Enter nums : 12345\n",
            "Enter nums : 34567\n",
            "['1', '2', '3', '4', '5']\n",
            "['3', '4', '5', '6', '7']\n",
            "The commen elemnts :  ['3', '4', '5']\n"
          ]
        }
      ],
      "source": [
        "def common_list(list1,list2):\n",
        "  return list(i for i in list1 if i in list2)\n",
        "list1=list(input(\"Enter nums : \"))\n",
        "list2=list(input(\"Enter nums : \"))\n",
        "print(list1)\n",
        "print(list2)\n",
        "print(\"The commen elemnts : \" ,common_list(list1,list2))\n"
      ]
    },
    {
      "cell_type": "markdown",
      "id": "9a2f34cb",
      "metadata": {
        "id": "9a2f34cb"
      },
      "source": [
        "### 8-Write a Python function that takes a list of numbers and an element to remove from the list."
      ]
    },
    {
      "cell_type": "code",
      "execution_count": 21,
      "id": "3feaf264",
      "metadata": {
        "ExecuteTime": {
          "end_time": "2023-07-23T22:21:38.480436Z",
          "start_time": "2023-07-23T22:21:38.464574Z"
        },
        "id": "3feaf264",
        "colab": {
          "base_uri": "https://localhost:8080/"
        },
        "outputId": "958b82c2-8145-4f57-8e91-83b6242f6558"
      },
      "outputs": [
        {
          "output_type": "execute_result",
          "data": {
            "text/plain": [
              "[3, 4, 5]"
            ]
          },
          "metadata": {},
          "execution_count": 21
        }
      ],
      "source": [
        "def lists(list1 , remove_element):\n",
        "  return [i for i in list1 if i != remove_element]\n",
        "list1=[2,3,2,4,2,5]\n",
        "remove_element=2\n",
        "lists(list1,remove_element)"
      ]
    },
    {
      "cell_type": "markdown",
      "id": "f1658f3b",
      "metadata": {
        "ExecuteTime": {
          "end_time": "2023-07-23T22:18:08.230185Z",
          "start_time": "2023-07-23T22:18:08.224220Z"
        },
        "id": "f1658f3b"
      },
      "source": [
        "### 9-Given 4 numbers A, B, C and D. Print the last 2 digits from their Multiplication.\n",
        "### Example :\n",
        "### the Multiplication of 4 numbers is 5 * 7 * 2 * 4 = 280 so the answer will be the last 2 digits which are 80."
      ]
    },
    {
      "cell_type": "code",
      "execution_count": 5,
      "id": "e3acbe03",
      "metadata": {
        "ExecuteTime": {
          "end_time": "2023-07-23T22:26:11.183016Z",
          "start_time": "2023-07-23T22:26:03.981069Z"
        },
        "id": "e3acbe03",
        "colab": {
          "base_uri": "https://localhost:8080/"
        },
        "outputId": "821e6a3c-51ae-46ef-b9b4-8c069a337548"
      },
      "outputs": [
        {
          "output_type": "stream",
          "name": "stdout",
          "text": [
            "60\n"
          ]
        }
      ],
      "source": [
        "a=5\n",
        "b=9\n",
        "c=2\n",
        "d=4\n",
        "multi=a*b*c*d\n",
        "print(multi%100)"
      ]
    },
    {
      "cell_type": "markdown",
      "id": "d7ab15bb",
      "metadata": {
        "ExecuteTime": {
          "end_time": "2023-07-23T22:26:14.833712Z",
          "start_time": "2023-07-23T22:26:14.819130Z"
        },
        "id": "d7ab15bb"
      },
      "source": [
        "### 10- Given a number X. Determine if the number is prime or not"
      ]
    },
    {
      "cell_type": "code",
      "execution_count": 28,
      "id": "03f6ff0e",
      "metadata": {
        "id": "03f6ff0e",
        "colab": {
          "base_uri": "https://localhost:8080/"
        },
        "outputId": "5755ffdf-e81c-45fa-a6e8-5e743a9755ae"
      },
      "outputs": [
        {
          "output_type": "stream",
          "name": "stdout",
          "text": [
            "plz enter the number : 5\n",
            "Prime.\n"
          ]
        }
      ],
      "source": [
        "num=int(input(\"plz enter the number : \"))\n",
        "if num > 1:\n",
        "    for i in range(2,num):\n",
        "        if num%i == 0:\n",
        "            print(\"Not Prime.\")\n",
        "            break\n",
        "    else:\n",
        "        print(\"Prime.\")\n",
        "\n",
        "else:\n",
        "    print(\"The Number Should Be Postivie.\")"
      ]
    },
    {
      "cell_type": "markdown",
      "id": "e1d1dcf9",
      "metadata": {
        "id": "e1d1dcf9"
      },
      "source": [
        "### 11- Given a number N and a list A of N numbers. Determine if the number X exists in array A or not and print its position (0-index)."
      ]
    },
    {
      "cell_type": "code",
      "execution_count": 39,
      "id": "2b002b0e",
      "metadata": {
        "ExecuteTime": {
          "end_time": "2023-07-23T22:53:41.474835Z",
          "start_time": "2023-07-23T22:53:41.458293Z"
        },
        "id": "2b002b0e",
        "colab": {
          "base_uri": "https://localhost:8080/"
        },
        "outputId": "28ee60e6-a671-4dcf-9abc-66b9bef16e42"
      },
      "outputs": [
        {
          "output_type": "stream",
          "name": "stdout",
          "text": [
            "Enter Number of Elements : 5\n",
            "Enter Element : 1\n",
            "Enter Element : 2\n",
            "Enter Element : 3\n",
            "Enter Element : 4\n",
            "Enter Element : 5\n",
            "Enter the num that you want to check : 5\n",
            "Number found in index :  4\n"
          ]
        }
      ],
      "source": [
        "list1=[]\n",
        "num=int(input(\"Enter Number of Elements : \"))\n",
        "for i in range(num) :\n",
        "   list1.append(int(input(\"Enter Element : \")))\n",
        "x=int(input(\"Enter the num that you want to check : \"))\n",
        "if x in list1:\n",
        "  print(\"Number found in index : \",list1.index(x))\n",
        "else:\n",
        "  print(\"Not Found\")\n",
        "\n",
        "\n",
        "\n"
      ]
    },
    {
      "cell_type": "code",
      "source": [
        "list2=[1,3,5,7,9,11]\n",
        "x=int(input(\"Enter the num that you want to check : \"))\n",
        "if x in list2:\n",
        "  print(\"Number found in index : \",list2.index(x))\n",
        "else:\n",
        "  print(\"Not Found\")\n"
      ],
      "metadata": {
        "colab": {
          "base_uri": "https://localhost:8080/"
        },
        "id": "u9VyAC_WH7YE",
        "outputId": "3939b0ae-92cb-4264-da94-9e0a30322daf"
      },
      "id": "u9VyAC_WH7YE",
      "execution_count": 37,
      "outputs": [
        {
          "output_type": "stream",
          "name": "stdout",
          "text": [
            "Enter the num that you want to check : 5\n",
            "Number found in index :  2\n"
          ]
        }
      ]
    },
    {
      "cell_type": "markdown",
      "id": "f2ec854b",
      "metadata": {
        "id": "f2ec854b"
      },
      "source": [
        "### 12- Given a number N and a list A of N numbers. Determine if the array is lucky or not.\n",
        "\n",
        "#### Note: the array is lucky if the frequency (number of occurrence) of the minimum element is odd."
      ]
    },
    {
      "cell_type": "code",
      "execution_count": 40,
      "id": "0c4f7f4b",
      "metadata": {
        "ExecuteTime": {
          "end_time": "2023-07-23T23:02:02.490192Z",
          "start_time": "2023-07-23T23:02:02.476874Z"
        },
        "id": "0c4f7f4b",
        "colab": {
          "base_uri": "https://localhost:8080/"
        },
        "outputId": "fb037fc9-11d9-4fe6-b569-bd6f8fa26683"
      },
      "outputs": [
        {
          "output_type": "stream",
          "name": "stdout",
          "text": [
            "Enter Number of Elements : 5\n",
            "Enter Element : 1\n",
            "Enter Element : 2\n",
            "Enter Element : 3\n",
            "Enter Element : 1\n",
            "Enter Element : 2\n",
            "Not lucky\n"
          ]
        }
      ],
      "source": [
        "list1=[]\n",
        "num=int(input(\"Enter Number of Elements : \"))\n",
        "for i in range(num) :\n",
        "   list1.append(int(input(\"Enter Element : \")))\n",
        "min_elements=min(list1)\n",
        "frequency=list1.count(min_elements)\n",
        "if frequency%2==1 :\n",
        "  print(\"lucky\")\n",
        "else:\n",
        "  print(\"Not lucky\")"
      ]
    },
    {
      "cell_type": "markdown",
      "id": "e1ce1ae5",
      "metadata": {
        "id": "e1ce1ae5"
      },
      "source": [
        "### 13-Given a number N and a list A of N numbers. Print the array after doing the following operations:\n",
        "\n",
        "#### Find minimum number in these numbers.\n",
        "#### Find maximum number in these numbers.\n",
        "##### Swap minimum number with maximum number."
      ]
    },
    {
      "cell_type": "code",
      "execution_count": 48,
      "id": "20165184",
      "metadata": {
        "ExecuteTime": {
          "end_time": "2023-07-23T23:10:04.651957Z",
          "start_time": "2023-07-23T23:10:04.648955Z"
        },
        "id": "20165184",
        "colab": {
          "base_uri": "https://localhost:8080/"
        },
        "outputId": "57ee0dd4-4261-4ab1-f0ae-72d853601eff"
      },
      "outputs": [
        {
          "output_type": "stream",
          "name": "stdout",
          "text": [
            "Enter Number of Elements : 5\n",
            "Enter Element : 2\n",
            "Enter Element : 4\n",
            "Enter Element : 6\n",
            "Enter Element : 8\n",
            "Enter Element : 10\n",
            "Maximum Number :  10\n",
            "Minimum Number :  2\n",
            "After Swapping :  [10, 4, 6, 8, 2]\n"
          ]
        }
      ],
      "source": [
        "list1=[]\n",
        "num=int(input(\"Enter Number of Elements : \"))\n",
        "for i in range(num) :\n",
        "   list1.append(int(input(\"Enter Element : \")))\n",
        "max_number=max(list1)\n",
        "min_number=min(list1)\n",
        "print(\"Maximum Number : \",max_number)\n",
        "print(\"Minimum Number : \",min_number)\n",
        "list1[list1.index(max_number)]=min_number\n",
        "list1[list1.index(min_number)]=max_number\n",
        "print(\"After Swapping : \",list1)\n",
        "\n"
      ]
    },
    {
      "cell_type": "markdown",
      "id": "9eb8e9c5",
      "metadata": {
        "ExecuteTime": {
          "end_time": "2023-07-23T23:10:06.436833Z",
          "start_time": "2023-07-23T23:10:06.422086Z"
        },
        "id": "9eb8e9c5"
      },
      "source": [
        "### 14-Given a number N and an array A of N numbers. Print the lowest number and its position.\n",
        "\n",
        "### Note: if there are more than one answer print first one's position."
      ]
    },
    {
      "cell_type": "code",
      "execution_count": 5,
      "id": "27e032e4",
      "metadata": {
        "ExecuteTime": {
          "end_time": "2023-07-23T23:20:55.425024Z",
          "start_time": "2023-07-23T23:20:55.407711Z"
        },
        "id": "27e032e4",
        "colab": {
          "base_uri": "https://localhost:8080/"
        },
        "outputId": "28897c95-8b4a-4816-c2f1-395d4c3be3c8"
      },
      "outputs": [
        {
          "output_type": "stream",
          "name": "stdout",
          "text": [
            "Enter Number of Elements : 5\n",
            "Enter Element : 6\n",
            "Enter Element : 2\n",
            "Enter Element : 4\n",
            "Enter Element : 2\n",
            "Enter Element : 3\n",
            "[6, 2, 4, 2, 3]\n",
            "Minimum Number :  2\n",
            "Minimum Number index('first one only') :  1\n"
          ]
        }
      ],
      "source": [
        "list1=[]\n",
        "num=int(input(\"Enter Number of Elements : \"))\n",
        "for i in range(num) :\n",
        "   list1.append(int(input(\"Enter Element : \")))\n",
        "min_number=min(list1)\n",
        "print(list1)\n",
        "print(\"Minimum Number : \" ,min_number)\n",
        "print(\"Minimum Number index(\\'first one only\\') : \" ,list1.index(min_number))"
      ]
    },
    {
      "cell_type": "markdown",
      "id": "f35d3427",
      "metadata": {
        "ExecuteTime": {
          "end_time": "2023-07-23T23:20:55.880128Z",
          "start_time": "2023-07-23T23:20:55.861804Z"
        },
        "id": "f35d3427"
      },
      "source": [
        "### 15-Given a number N and an array A of N numbers. Print the numbers after sorting them"
      ]
    },
    {
      "cell_type": "code",
      "execution_count": 13,
      "id": "38100d74",
      "metadata": {
        "ExecuteTime": {
          "end_time": "2023-07-23T23:46:14.343960Z",
          "start_time": "2023-07-23T23:46:14.325805Z"
        },
        "id": "38100d74",
        "colab": {
          "base_uri": "https://localhost:8080/"
        },
        "outputId": "76a0b385-8a59-4dfd-b8e8-f823b1a30b09"
      },
      "outputs": [
        {
          "output_type": "stream",
          "name": "stdout",
          "text": [
            "Enter Number of Elements : 5\n",
            "Enter Element : 6\n",
            "Enter Element : 7\n",
            "Enter Element : 2\n",
            "Enter Element : 3\n",
            "Enter Element : 4\n",
            "Before sorting :  [6, 7, 2, 3, 4]\n",
            "After sorting :  [2, 3, 4, 6, 7]\n"
          ]
        }
      ],
      "source": [
        "list1=[]\n",
        "num=int(input(\"Enter Number of Elements : \"))\n",
        "for i in range(num) :\n",
        "   list1.append(int(input(\"Enter Element : \")))\n",
        "print(\"Before sorting : \",list1)\n",
        "list1.sort()\n",
        "print(\"After sorting : \",list1) #in ascending\n",
        "\n",
        ""
      ]
    },
    {
      "cell_type": "markdown",
      "id": "a172f354",
      "metadata": {
        "ExecuteTime": {
          "end_time": "2023-07-23T23:46:15.127981Z",
          "start_time": "2023-07-23T23:46:15.108766Z"
        },
        "id": "a172f354"
      },
      "source": [
        "### 16- Write a Python program to remove spaces from a given string"
      ]
    },
    {
      "cell_type": "code",
      "execution_count": 21,
      "id": "36d3569d",
      "metadata": {
        "ExecuteTime": {
          "end_time": "2023-07-23T23:50:06.443640Z",
          "start_time": "2023-07-23T23:50:01.592919Z"
        },
        "id": "36d3569d",
        "colab": {
          "base_uri": "https://localhost:8080/"
        },
        "outputId": "fa4b5995-66e5-4672-8c97-faf3e6fe3754"
      },
      "outputs": [
        {
          "output_type": "stream",
          "name": "stdout",
          "text": [
            "AhmedAnas\n"
          ]
        }
      ],
      "source": [
        "string=\"Ahmed     Anas\"\n",
        "print(string.replace(\" \",\"\"))"
      ]
    },
    {
      "cell_type": "markdown",
      "id": "a5470d49",
      "metadata": {
        "id": "a5470d49"
      },
      "source": [
        "### 17-write a Python program to swap first and last element of any list."
      ]
    },
    {
      "cell_type": "code",
      "execution_count": 23,
      "id": "9d73887b",
      "metadata": {
        "ExecuteTime": {
          "end_time": "2023-07-23T23:50:59.283429Z",
          "start_time": "2023-07-23T23:50:59.272096Z"
        },
        "id": "9d73887b",
        "colab": {
          "base_uri": "https://localhost:8080/"
        },
        "outputId": "57931ce3-a207-4308-ab3e-80e9b9651fbc"
      },
      "outputs": [
        {
          "output_type": "stream",
          "name": "stdout",
          "text": [
            "[10, 2, 3, 5, 6, 1]\n"
          ]
        }
      ],
      "source": [
        "list1=[1 ,2 ,3, 5, 6, 10]\n",
        "list1[0],list1[-1]=list1[-1],list1[0]\n",
        "print(list1)"
      ]
    },
    {
      "cell_type": "markdown",
      "source": [
        "# **Write a Python Program to Find HCF.**\n",
        "## Highest Common Factor(HCF): HCF, or Highest Common Factor, is the largest positive integer that divides two or more numbers without leaving a remainder. Formula: For two numbers a and b, the HCF can be found using the formula:\n",
        "\n",
        "** HCF(𝑎, 𝑏) = GCD(𝑎, 𝑏)**\n",
        "For more than two numbers, you can find the HCF by taking the GCD of pairs of numbers at a time until you reach the last pair.\n",
        "\n",
        "# **Note: GCD stands for Greatest Common Divisor, use function.**\n"
      ],
      "metadata": {
        "id": "iS6JiE4uPbyH"
      },
      "id": "iS6JiE4uPbyH"
    },
    {
      "cell_type": "code",
      "source": [
        "def gcd(a, b):\n",
        "    while b:\n",
        "        a, b = b, a % b\n",
        "    return a\n",
        "\n",
        "def find_hcf(*numbers):\n",
        "    \"\"\"Function to find HCF of given numbers\"\"\"\n",
        "    hcf = numbers[0]\n",
        "    for num in numbers[1:]:\n",
        "        hcf = gcd(hcf, num)\n",
        "    return hcf\n",
        "\n",
        "# Example usage\n",
        "num_list = [48, 72, 120]\n",
        "hcf = find_hcf(*num_list)\n",
        "print(f\"HCF of {num_list} is {hcf}\")\n"
      ],
      "metadata": {
        "id": "z_H0XSJnPeMw",
        "colab": {
          "base_uri": "https://localhost:8080/"
        },
        "outputId": "2ee23d61-dfd4-44c2-de31-1f706e54faf1"
      },
      "id": "z_H0XSJnPeMw",
      "execution_count": 31,
      "outputs": [
        {
          "output_type": "stream",
          "name": "stdout",
          "text": [
            "HCF of [48, 72, 120] is 24\n"
          ]
        }
      ]
    }
  ],
  "metadata": {
    "kernelspec": {
      "display_name": "Python 3 (ipykernel)",
      "language": "python",
      "name": "python3"
    },
    "language_info": {
      "codemirror_mode": {
        "name": "ipython",
        "version": 3
      },
      "file_extension": ".py",
      "mimetype": "text/x-python",
      "name": "python",
      "nbconvert_exporter": "python",
      "pygments_lexer": "ipython3",
      "version": "3.9.12"
    },
    "colab": {
      "provenance": [],
      "include_colab_link": true
    }
  },
  "nbformat": 4,
  "nbformat_minor": 5
}